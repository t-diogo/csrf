{
 "cells": [
  {
   "cell_type": "markdown",
   "metadata": {},
   "source": [
    "<h1 style=\"font-size:2.75rem;color:white;\"> Design Script for a RF Front-End</h1>"
   ]
  },
  {
   "cell_type": "markdown",
   "metadata": {},
   "source": [
    "# <u> Imports"
   ]
  },
  {
   "cell_type": "code",
   "execution_count": 16,
   "metadata": {},
   "outputs": [],
   "source": [
    "import numpy as np\n",
    "import sympy as sp\n",
    "import matplotlib.pyplot as plt\n",
    "from matplotlib.ticker import EngFormatter"
   ]
  },
  {
   "cell_type": "markdown",
   "metadata": {},
   "source": [
    "# <u> Available current"
   ]
  },
  {
   "cell_type": "code",
   "execution_count": 17,
   "metadata": {},
   "outputs": [
    {
     "name": "stdout",
     "output_type": "stream",
     "text": [
      "Total current consumption: 11.11 mA\n",
      "Total current consumption: 11 mA\n"
     ]
    }
   ],
   "source": [
    "battery_spec = 2000     # 2000 mAh\n",
    "autonomy_spec = 30      # 30 days\n",
    "node_operation = 0.1    # 10% of the time\n",
    "active_time = 0.4       # 40% of the time when in operation mode\n",
    "\n",
    "# calculate the max current consumption of the node in order to meet the autonomy spec\n",
    "total_current = battery_spec / (autonomy_spec * node_operation / active_time * 24)\n",
    "print(f\"Total current consumption: {total_current:.2f} mA\")\n",
    "\n",
    "total_current = np.floor(total_current)\n",
    "print(f\"Total current consumption: {total_current:.0f} mA\")"
   ]
  },
  {
   "cell_type": "code",
   "execution_count": 18,
   "metadata": {},
   "outputs": [],
   "source": [
    "# max cap on-chip = 10pF\n",
    "# max ind on-chip = 50nH"
   ]
  },
  {
   "cell_type": "markdown",
   "metadata": {},
   "source": [
    "# Received power"
   ]
  },
  {
   "cell_type": "code",
   "execution_count": 19,
   "metadata": {},
   "outputs": [
    {
     "name": "stdout",
     "output_type": "stream",
     "text": [
      "Received Power: -72.10 dBm\n"
     ]
    }
   ],
   "source": [
    "def calculate_received_power(P_t_dBm, G_t_dBi, G_r_dBi, frequency_Hz, distance_m):\n",
    "    \"\"\"\n",
    "    Calculate the received power using the Friis Transmission Equation.\n",
    "\n",
    "    Parameters:\n",
    "        P_t_dBm (float): Transmitted power in dBm.\n",
    "        G_t_dBi (float): Transmitter antenna gain in dBi.\n",
    "        G_r_dBi (float): Receiver antenna gain in dBi.\n",
    "        frequency_Hz (float): Operating frequency in Hz.\n",
    "        distance_m (float): Distance between transmitter and receiver in meters.\n",
    "\n",
    "    Returns:\n",
    "        float: Received power in dBm.\n",
    "    \"\"\"\n",
    "    # Constants\n",
    "    c = 3e8  # Speed of light in m/s\n",
    "\n",
    "    # Calculate wavelength (lambda)\n",
    "    wavelength_m = c / frequency_Hz\n",
    "\n",
    "    # Free-space path loss (L_p) in dB\n",
    "    L_p_dB = 20 * np.log10(distance_m) + 20 * np.log10(frequency_Hz) - 147.55\n",
    "\n",
    "    # Calculate received power (P_r) in dBm\n",
    "    P_r_dBm = P_t_dBm + G_t_dBi + G_r_dBi - L_p_dB\n",
    "\n",
    "    return P_r_dBm\n",
    "\n",
    "# Example Usage\n",
    "P_t_dBm = 0  # Transmitted power in dBm\n",
    "G_t_dBi = 0  # Transmitter antenna gain in dBi\n",
    "G_r_dBi = 0  # Receiver antenna gain in dBi\n",
    "f = 2.4e9    # Operating frequency in Hz (2.4 GHz for ISM band)\n",
    "d = 40       # Distance in meters\n",
    "\n",
    "# Calculate received power\n",
    "received_power = calculate_received_power(P_t_dBm, G_t_dBi, G_r_dBi, frequency_Hz, distance_m)\n",
    "\n",
    "print(f\"Received Power: {received_power:.2f} dBm\")"
   ]
  },
  {
   "cell_type": "code",
   "execution_count": null,
   "metadata": {},
   "outputs": [
    {
     "name": "stdout",
     "output_type": "stream",
     "text": [
      "Received Power: -72.10 dBm\n"
     ]
    }
   ],
   "source": [
    "P_t_dBm = 0  # Transmitted power in dBm\n",
    "G_t_dBi = 0  # Transmitter antenna gain in dBi\n",
    "G_r_dBi = 0  # Receiver antenna gain in dBi\n",
    "f = 2.4e9    # Operating frequency in Hz (2.4 GHz for ISM band)\n",
    "d = 40       # Distance in meters\n",
    "\n",
    "# Calculate path loss\n",
    "L_p_dB = 20 * np.log10(d) + 20 * np.log10(f) - 147.55\n",
    "\n",
    "# Calculate received power in dBm\n",
    "P_r_dBm = P_t_dBm + G_t_dBi + G_r_dBi - L_p_dB\n",
    "\n",
    "print(f\"Received Power: {P_r_dBm:.2f} dBm\")"
   ]
  },
  {
   "cell_type": "markdown",
   "metadata": {},
   "source": [
    "# <u> LNA"
   ]
  },
  {
   "cell_type": "code",
   "execution_count": null,
   "metadata": {},
   "outputs": [],
   "source": [
    "LNA_MAX_CURRENT = 10  # Maximum current consumption of the LNA in mA"
   ]
  }
 ],
 "metadata": {
  "kernelspec": {
   "display_name": "Python 3",
   "language": "python",
   "name": "python3"
  },
  "language_info": {
   "codemirror_mode": {
    "name": "ipython",
    "version": 3
   },
   "file_extension": ".py",
   "mimetype": "text/x-python",
   "name": "python",
   "nbconvert_exporter": "python",
   "pygments_lexer": "ipython3",
   "version": "3.12.4"
  }
 },
 "nbformat": 4,
 "nbformat_minor": 2
}
